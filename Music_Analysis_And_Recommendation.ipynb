{
 "cells": [
  {
   "cell_type": "code",
   "execution_count": 5,
   "id": "freelance-hamburg",
   "metadata": {},
   "outputs": [
    {
     "name": "stdout",
     "output_type": "stream",
     "text": [
      "Requirement already satisfied: pyspark in c:\\users\\keerthana\\anaconda3\\lib\\site-packages (3.2.0)\n",
      "Requirement already satisfied: py4j==0.10.9.2 in c:\\users\\keerthana\\anaconda3\\lib\\site-packages (from pyspark) (0.10.9.2)\n",
      "Requirement already satisfied: seaborn in c:\\users\\keerthana\\anaconda3\\lib\\site-packages (0.11.1)\n",
      "Requirement already satisfied: scipy>=1.0 in c:\\users\\keerthana\\anaconda3\\lib\\site-packages (from seaborn) (1.5.2)\n",
      "Requirement already satisfied: pandas>=0.23 in c:\\users\\keerthana\\anaconda3\\lib\\site-packages (from seaborn) (1.2.0)\n",
      "Requirement already satisfied: numpy>=1.15 in c:\\users\\keerthana\\anaconda3\\lib\\site-packages (from seaborn) (1.19.5)\n",
      "Requirement already satisfied: matplotlib>=2.2 in c:\\users\\keerthana\\anaconda3\\lib\\site-packages (from seaborn) (3.3.2)\n",
      "Requirement already satisfied: python-dateutil>=2.1 in c:\\users\\keerthana\\anaconda3\\lib\\site-packages (from matplotlib>=2.2->seaborn) (2.8.1)\n",
      "Requirement already satisfied: pyparsing!=2.0.4,!=2.1.2,!=2.1.6,>=2.0.3 in c:\\users\\keerthana\\anaconda3\\lib\\site-packages (from matplotlib>=2.2->seaborn) (2.4.7)\n",
      "Requirement already satisfied: certifi>=2020.06.20 in c:\\users\\keerthana\\anaconda3\\lib\\site-packages (from matplotlib>=2.2->seaborn) (2020.12.5)\n",
      "Requirement already satisfied: kiwisolver>=1.0.1 in c:\\users\\keerthana\\anaconda3\\lib\\site-packages (from matplotlib>=2.2->seaborn) (1.3.0)\n",
      "Requirement already satisfied: pillow>=6.2.0 in c:\\users\\keerthana\\anaconda3\\lib\\site-packages (from matplotlib>=2.2->seaborn) (8.1.0)\n",
      "Requirement already satisfied: cycler>=0.10 in c:\\users\\keerthana\\anaconda3\\lib\\site-packages (from matplotlib>=2.2->seaborn) (0.10.0)\n",
      "Requirement already satisfied: six in c:\\users\\keerthana\\anaconda3\\lib\\site-packages (from cycler>=0.10->matplotlib>=2.2->seaborn) (1.15.0)\n",
      "Requirement already satisfied: pytz>=2017.3 in c:\\users\\keerthana\\anaconda3\\lib\\site-packages (from pandas>=0.23->seaborn) (2020.5)\n"
     ]
    }
   ],
   "source": [
    "import sys\n",
    "!{sys.executable} -m pip install pyspark\n",
    "!{sys.executable} -m pip install seaborn\n"
   ]
  },
  {
   "cell_type": "code",
   "execution_count": 6,
   "id": "conceptual-burning",
   "metadata": {},
   "outputs": [],
   "source": [
    "import numpy as np\n",
    "import pandas as pd\n",
    "import os\n",
    "import seaborn as sns"
   ]
  },
  {
   "cell_type": "code",
   "execution_count": 7,
   "id": "intermediate-supplier",
   "metadata": {},
   "outputs": [],
   "source": [
    "import findspark\n",
    "findspark.init()\n",
    "import pyspark\n",
    "from pyspark import SparkConf,SparkContext\n",
    "from pyspark.sql import SparkSession, SQLContext\n",
    "from pyspark.sql.types import *\n",
    "import pyspark.sql.functions as f\n",
    "from pyspark.sql.functions import udf,col\n",
    "\n",
    "data = 'Final_database.csv'\n"
   ]
  },
  {
   "cell_type": "code",
   "execution_count": 8,
   "id": "transsexual-confidentiality",
   "metadata": {},
   "outputs": [
    {
     "data": {
      "text/html": [
       "\n",
       "            <div>\n",
       "                <p><b>SparkSession - in-memory</b></p>\n",
       "                \n",
       "        <div>\n",
       "            <p><b>SparkContext</b></p>\n",
       "\n",
       "            <p><a href=\"http://LAPTOP-I2R5MITG:4040\">Spark UI</a></p>\n",
       "\n",
       "            <dl>\n",
       "              <dt>Version</dt>\n",
       "                <dd><code>v3.2.0</code></dd>\n",
       "              <dt>Master</dt>\n",
       "                <dd><code>local</code></dd>\n",
       "              <dt>AppName</dt>\n",
       "                <dd><code>Music-Data-Analysis</code></dd>\n",
       "            </dl>\n",
       "        </div>\n",
       "        \n",
       "            </div>\n",
       "        "
      ],
      "text/plain": [
       "<pyspark.sql.session.SparkSession at 0x272299d9240>"
      ]
     },
     "execution_count": 8,
     "metadata": {},
     "output_type": "execute_result"
    }
   ],
   "source": [
    "spark = SparkSession.builder.master(\"local\").appName(\"Music-Data-Analysis\").getOrCreate()\n",
    "spark"
   ]
  },
  {
   "cell_type": "code",
   "execution_count": 9,
   "id": "communist-jersey",
   "metadata": {},
   "outputs": [
    {
     "name": "stderr",
     "output_type": "stream",
     "text": [
      "C:\\Spark\\spark-3.2.0-bin-hadoop3.2\\spark-3.2.0-bin-hadoop3.2\\spark-3.2.0-bin-hadoop3.2\\python\\pyspark\\sql\\context.py:79: FutureWarning: Deprecated in 3.0.0. Use SparkSession.builder.getOrCreate() instead.\n",
      "  FutureWarning\n"
     ]
    }
   ],
   "source": [
    "sc = spark.sparkContext\n",
    "sqlContext = SQLContext(sc)"
   ]
  },
  {
   "cell_type": "code",
   "execution_count": 10,
   "id": "remarkable-element",
   "metadata": {},
   "outputs": [
    {
     "data": {
      "text/plain": [
       "<bound method DataFrame.printSchema of DataFrame[Country0: string, Uri: string, Popularity: string, Title: string, Artist: string, Album/Single: string, Genre: string, Artist_followers: string, Explicit: string, Album9: string, Release_date: string, Track_number: string, Tracks_in_album: string, danceability: string, energy: string, key: string, loudness: string, mode: string, speechiness: string, acoustics: string, instrumentalness: string, liveliness: string, valence: string, tempo: string, duration_ms: string, time_signature: string, Genre_new: string, Days_since_release: string, Released_after_2017: string, Explicit_false: string, Explicit_true: string, album31: string, compilation: string, single: string, bolero: string, boy band: string, country36: string, dance/electronic: string, else: string, funk: string, hip hop: string, house: string, indie: string, jazz: string, k-pop: string, latin: string, metal: string, opm: string, pop: string, r&b/soul: string, rap: string, reggae: string, reggaeton: string, rock: string, trap: string, syuzhet_norm: string, bing_norm: string, afinn_norm: string, nrc_norm: string, syuzhet: string, bing: string, afinn: string, nrc: string, anger: string, anticipation: string, disgust: string, fear: string, joy: string, sadness: string, surprise: string, trust: string, negative: string, positive: string, n_words: string, anger_norm: string, anticipation_norm: string, disgust_norm: string, fear_norm: string, joy_norm: string, sadness_norm: string, surprise_norm: string, trust_norm: string, negative_norm: string, positive_norm: string, anger_norm2: string, anticipation_norm2: string, disgust_norm2: string, fear_norm2: string, joy_norm2: string, sadness_norm2: string, surprise_norm2: string, trust_norm2: string, negative_norm2: string, positive_norm2: string, negative_bog_jr: string, positive_bog_jr: string, Bayes: string, Negative_Bayes: string, Neutral_Bayes: string, Positive_Bayes: string, LDA_Topic: string, Celebrate: string, Desire: string, Explore: string, Fun: string, Hope: string, Love: string, Nostalgia: string, Thug: string, bing_norm_negative: string, bing_norm_neutral: string, bing_norm_positive: string, Argentina: string, Australia: string, Austria: string, Belgium: string, Brazil: string, Canada: string, Chile: string, Colombia: string, Costa Rica: string, Denmark: string, Ecuador: string, Finland: string, France: string, Germany: string, Global: string, Indonesia: string, Ireland: string, Italy: string, Malaysia: string, Mexico: string, Netherlands: string, New Zealand: string, Norway: string, Peru: string, Philippines: string, Poland: string, Portugal: string, Singapore: string, Spain: string, Sweden: string, Switzerland: string, Taiwan: string, Turkey: string, UK: string, USA: string, Popu_max: string, Top10_dummy: string, Top50_dummy: string, Cluster: string]>"
      ]
     },
     "execution_count": 10,
     "metadata": {},
     "output_type": "execute_result"
    }
   ],
   "source": [
    "df = spark.read.option(\"header\",True).csv(data)\n",
    "to_drop=['syuzhet_norm', 'bing_norm', 'afinn_norm', 'nrc_norm', 'syuzhet', 'bing'] \n",
    "for c in to_drop:\n",
    "    df.drop(c).collect()\n",
    "df.printSchema"
   ]
  },
  {
   "cell_type": "code",
   "execution_count": 11,
   "id": "pacific-annual",
   "metadata": {},
   "outputs": [],
   "source": [
    "numerical_features = ['danceability', 'energy', 'instrumentalness', 'valence', 'liveliness', 'speechiness', 'acoustics',\n",
    "                      'speechiness', 'acoustics', 'instrumentalness', 'liveliness', 'valence', 'tempo', 'duration_ms', \n",
    "                      'time_signature', 'Days_since_release', 'n_words']\n",
    "for c in numerical_features:\n",
    "    df = df.withColumn(c, df[c].cast(\"float\"))"
   ]
  },
  {
   "cell_type": "markdown",
   "id": "unsigned-handbook",
   "metadata": {},
   "source": [
    "#### Popular Artist"
   ]
  },
  {
   "cell_type": "code",
   "execution_count": 12,
   "id": "union-fellow",
   "metadata": {},
   "outputs": [],
   "source": [
    "sns.set_style('darkgrid')"
   ]
  },
  {
   "cell_type": "code",
   "execution_count": 13,
   "id": "broad-manner",
   "metadata": {
    "scrolled": true
   },
   "outputs": [
    {
     "data": {
      "text/plain": [
       "Text(0.5, 1.0, 'Popular Artists')"
      ]
     },
     "execution_count": 13,
     "metadata": {},
     "output_type": "execute_result"
    },
    {
     "data": {
      "image/png": "[encoded data removed]",
      "text/plain": [
       "<Figure size 432x288 with 1 Axes>"
      ]
     },
     "metadata": {},
     "output_type": "display_data"
    }
   ],
   "source": [
    "popular_artist = df.groupBy(\"Artist\").count().orderBy(\"count\",ascending=False).limit(20).toPandas()\n",
    "sns.barplot(data=popular_artist,y='Artist',x='count').set_title('Popular Artists')"
   ]
  },
  {
   "cell_type": "markdown",
   "id": "ceramic-flashing",
   "metadata": {},
   "source": [
    "#### Popular Artist in India"
   ]
  },
  {
   "cell_type": "code",
   "execution_count": 14,
   "id": "covered-puzzle",
   "metadata": {},
   "outputs": [
    {
     "name": "stderr",
     "output_type": "stream",
     "text": [
      "C:\\Spark\\spark-3.2.0-bin-hadoop3.2\\spark-3.2.0-bin-hadoop3.2\\spark-3.2.0-bin-hadoop3.2\\python\\pyspark\\sql\\dataframe.py:140: FutureWarning: Deprecated in 2.0, use createOrReplaceTempView instead.\n",
      "  FutureWarning\n"
     ]
    }
   ],
   "source": [
    "df.registerTempTable(\"music_data\")"
   ]
  },
  {
   "cell_type": "code",
   "execution_count": 15,
   "id": "recreational-balloon",
   "metadata": {},
   "outputs": [
    {
     "name": "stdout",
     "output_type": "stream",
     "text": [
      "+--------------------------------------------+----------+\n",
      "|Artist                                      |Populartiy|\n",
      "+--------------------------------------------+----------+\n",
      "|Calvin Harris - Dua Lipa                    |102479.25 |\n",
      "|Dave - Burna Boy                            |100386.0  |\n",
      "|Marshmello - Bastille                       |84639.15  |\n",
      "|Keala Settle - The Greatest Showman Ensemble|82456.05  |\n",
      "|Dave - Fredo                                |73267.8   |\n",
      "|Calvin Harris - Sam Smith - Jessie Reyez    |70113.45  |\n",
      "|DJ Khaled - Rihanna - Bryson Tiller         |66377.45  |\n",
      "|Portugal. The Man                           |64179.35  |\n",
      "|Tones And I                                 |125309.7  |\n",
      "|Post Malone - Quavo                         |62164.7   |\n",
      "|Regard                                      |61485.0   |\n",
      "|Post Malone - 21 Savage                     |122706.65 |\n",
      "|Loud Luxury - Brando                        |59066.55  |\n",
      "|Zac Efron - Zendaya                         |59056.45  |\n",
      "|MEDUZA - Goodboys                           |55099.25  |\n",
      "|SAINt JHN - Imanbek                         |54674.05  |\n",
      "|Drake - WizKid - Kyla                       |53439.75  |\n",
      "|Arizona Zervas                              |52227.65  |\n",
      "|MK                                          |50413.55  |\n",
      "|Ed Sheeran - Camila Cabello - Cardi B       |50173.95  |\n",
      "+--------------------------------------------+----------+\n",
      "\n"
     ]
    },
    {
     "data": {
      "text/plain": [
       "pyspark.sql.dataframe.DataFrame"
      ]
     },
     "execution_count": 15,
     "metadata": {},
     "output_type": "execute_result"
    }
   ],
   "source": [
    "popular_artist_specific_country = spark.sql('SELECT Artist, ROUND(SUM(Popularity), 2) AS Populartiy \\\n",
    "                 FROM music_data \\\n",
    "                 WHERE UK == 1 \\\n",
    "                 GROUP BY Artist \\\n",
    "                 ORDER BY AVG(Popularity) DESC \\\n",
    "                 LIMIT 20'\n",
    "               )\n",
    "popular_artist_specific_country.show(20, truncate=False)\n",
    "type(popular_artist_specific_country)"
   ]
  },
  {
   "cell_type": "code",
   "execution_count": 16,
   "id": "southeast-advantage",
   "metadata": {},
   "outputs": [
    {
     "data": {
      "text/plain": [
       "Text(0.5, 1.0, 'Popular Artists in a Country')"
      ]
     },
     "execution_count": 16,
     "metadata": {},
     "output_type": "execute_result"
    },
    {
     "data": {
      "image/png": "[encoded data removed]",
      "text/plain": [
       "<Figure size 432x288 with 1 Axes>"
      ]
     },
     "metadata": {},
     "output_type": "display_data"
    }
   ],
   "source": [
    "sns.barplot(data=popular_artist_specific_country.toPandas(),y='Artist',x='Populartiy').set_title('Popular Artists in a Country')"
   ]
  },
  {
   "cell_type": "markdown",
   "id": "aboriginal-collapse",
   "metadata": {},
   "source": [
    "#### Songs released in a particular year"
   ]
  },
  {
   "cell_type": "code",
   "execution_count": 17,
   "id": "incident-minimum",
   "metadata": {},
   "outputs": [
    {
     "name": "stdout",
     "output_type": "stream",
     "text": [
      "+----------------------+-----------------------------+------------+-----------------------+\n",
      "|Title                 |Artist                       |Release_date|Genre                  |\n",
      "+----------------------+-----------------------------+------------+-----------------------+\n",
      "|hold me tight or don’t|Fall Out Boy                 |2018-01-19  |emo                    |\n",
      "|global                |Lil Baby                     |2018-11-30  |atl hip hop            |\n",
      "|sparare alla luna     |Salmo - Coez                 |2018-11-09  |italian hip hop        |\n",
      "|borderline            |Ariana Grande - Missy Elliott|2018-08-17  |dance pop              |\n",
      "|waste it on me        |Steve Aoki - BTS             |2018-10-25  |big room               |\n",
      "|movement              |Hozier                       |2018-11-14  |irish singer-songwriter|\n",
      "|re-up                 |Nines - Trapstar Toxic       |2018-04-20  |grime                  |\n",
      "|something new         |Wiz Khalifa - Ty Dolla $ign  |2018-07-13  |hip hop                |\n",
      "|what u gonna do       |Oriana                       |2018-01-22  |argentine telepop      |\n",
      "|von vorn              |Olexesh                      |2018-10-05  |deep german hip hop    |\n",
      "+----------------------+-----------------------------+------------+-----------------------+\n",
      "only showing top 10 rows\n",
      "\n"
     ]
    }
   ],
   "source": [
    "df.filter(f.year(df['Release_date'])==2018).select('Title','Artist','Release_date','Genre').distinct().show(10,truncate=False)"
   ]
  },
  {
   "cell_type": "markdown",
   "id": "satisfactory-architecture",
   "metadata": {},
   "source": [
    "#### Most Popular Genres"
   ]
  },
  {
   "cell_type": "code",
   "execution_count": 18,
   "id": "ranging-employer",
   "metadata": {},
   "outputs": [
    {
     "name": "stdout",
     "output_type": "stream",
     "text": [
      "+--------------+---------------+\n",
      "|         Genre|popularity_vote|\n",
      "+--------------+---------------+\n",
      "|     dance pop|          25351|\n",
      "|         latin|           7591|\n",
      "|           pop|           7146|\n",
      "|         k-pop|           4053|\n",
      "|           n-a|           3952|\n",
      "|german hip hop|           3834|\n",
      "|   atl hip hop|           3668|\n",
      "|     francoton|           3279|\n",
      "| dutch hip hop|           3257|\n",
      "|      big room|           3095|\n",
      "+--------------+---------------+\n",
      "only showing top 10 rows\n",
      "\n"
     ]
    }
   ],
   "source": [
    "spark.sql('SELECT Genre,Count(*) as popularity_vote from music_data GROUP BY Genre ORDER BY popularity_vote DESC').show(10)"
   ]
  },
  {
   "cell_type": "markdown",
   "id": "mental-spouse",
   "metadata": {},
   "source": [
    "#### Most Popular Genres per decade"
   ]
  },
  {
   "cell_type": "code",
   "execution_count": 19,
   "id": "revolutionary-cherry",
   "metadata": {},
   "outputs": [
    {
     "name": "stdout",
     "output_type": "stream",
     "text": [
      "+------+-------------------+\n",
      "|Decade|              Genre|\n",
      "+------+-------------------+\n",
      "|  1900|vocal harmony group|\n",
      "|  1930|        movie tunes|\n",
      "|  1940|    adult standards|\n",
      "|  1950|    adult standards|\n",
      "|  1960|    adult standards|\n",
      "|  1970|    adult standards|\n",
      "|  1980|         album rock|\n",
      "|  1990|         irish rock|\n",
      "|  2000|  alternative metal|\n",
      "|  2010|          dance pop|\n",
      "|  2020|          dance pop|\n",
      "+------+-------------------+\n",
      "\n"
     ]
    }
   ],
   "source": [
    "popular_genres = spark.sql('SELECT  \\\n",
    "                    ROUND(Year(Release_date),-1) AS Decade, \\\n",
    "                    Genre\\\n",
    "                FROM music_data \\\n",
    "                WHERE ROUND(Year(Release_date), -1) IS NOT NULL \\\n",
    "                GROUP BY Decade, Genre \\\n",
    "                ORDER BY COUNT(Genre) DESC \\\n",
    "                ') \\\n",
    "            .dropDuplicates(subset=['Decade']) \\\n",
    "            .orderBy('Decade') \\\n",
    "            .show()"
   ]
  },
  {
   "cell_type": "markdown",
   "id": "pressing-lawsuit",
   "metadata": {},
   "source": [
    " #### Recommendation using cosine similarity"
   ]
  },
  {
   "cell_type": "code",
   "execution_count": 63,
   "id": "lonely-privilege",
   "metadata": {},
   "outputs": [
    {
     "name": "stdout",
     "output_type": "stream",
     "text": [
      "+--------------------+-----------------+------------------+\n",
      "|              Artist|            Genre|        Popularity|\n",
      "+--------------------+-----------------+------------------+\n",
      "|        Paulo Londra|argentine hip hop|          31833.95|\n",
      "|        Paulo Londra|argentine hip hop|               8.0|\n",
      "|        Paulo Londra|argentine hip hop|           76924.4|\n",
      "|        Paulo Londra|argentine hip hop| 849.6000000000001|\n",
      "|        Paulo Londra|argentine hip hop|           20739.1|\n",
      "|        Paulo Londra|argentine hip hop| 60264.19999999997|\n",
      "|        Paulo Londra|argentine hip hop| 60131.15000000014|\n",
      "|        Paulo Londra|argentine hip hop| 64081.30000000009|\n",
      "|        Paulo Londra|argentine hip hop|             208.0|\n",
      "|        Paulo Londra|argentine hip hop|           75636.9|\n",
      "|        Paulo Londra|argentine hip hop| 69318.34999999998|\n",
      "|        Paulo Londra|argentine hip hop|25361.250000000004|\n",
      "|        Paulo Londra|argentine hip hop| 56380.40000000006|\n",
      "|        Paulo Londra|argentine hip hop| 68141.79999999992|\n",
      "|        Paulo Londra|argentine hip hop|11281.650000000005|\n",
      "|        Paulo Londra|argentine hip hop|               8.8|\n",
      "|The Chainsmokers ...|        dance pop|             418.0|\n",
      "|The Chainsmokers ...|        dance pop| 581.1999999999998|\n",
      "|The Chainsmokers ...|        dance pop|             120.8|\n",
      "|The Chainsmokers ...|        dance pop|             404.0|\n",
      "+--------------------+-----------------+------------------+\n",
      "only showing top 20 rows\n",
      "\n"
     ]
    }
   ],
   "source": [
    "# Preprocessing\n",
    "features = ['Artist', 'Genre']\n",
    "df.na.fill(\" \")\n",
    "spark.sql('SELECT Artist, Genre, Popularity FROM music_data').show()\n"
   ]
  },
  {
   "cell_type": "code",
   "execution_count": 71,
   "id": "dangerous-import",
   "metadata": {},
   "outputs": [
    {
     "name": "stdout",
     "output_type": "stream",
     "text": [
      "170633\n",
      "5461\n",
      "5461\n",
      "+-----+--------+---------------------+--------------------+--------------------+------------------+\n",
      "|Index|Country0|                Title|              Artist|               Genre|        Popularity|\n",
      "+-----+--------+---------------------+--------------------+--------------------+------------------+\n",
      "|    1|  Global|           adan y eva|        Paulo Londra|   argentine hip hop|          31833.95|\n",
      "|    2|  Global|      it wont kill ya|The Chainsmokers ...|           dance pop|             418.0|\n",
      "|    3|  Global|                 hymn|               Kesha|           dance pop|              56.0|\n",
      "|    4|  Global|               arrows|        Foo Fighters|   alternative metal|              78.4|\n",
      "|    5|  Global|    talking to myself|         Linkin Park|   alternative metal|            244.95|\n",
      "|    6|  Global|                  icy|  Logic - Gucci Mane|   conscious hip hop|            316.65|\n",
      "|    7|  Global|        club paradise|               Drake|    canadian hip hop| 88.39999999999998|\n",
      "|    8|  Global| versace on the floor|          Bruno Mars|           dance pop| 7959.499999999997|\n",
      "|    9|  Global|              canguro|                 WOS|     argentine indie| 891.1999999999997|\n",
      "|   10|  Global|              sixteen|      Ellie Goulding|           dance pop| 6575.749999999997|\n",
      "|   11|  Global|             betrayed|             Lil Xan|             emo rap|            1213.6|\n",
      "|   12|  Global|  figurinha - ao vivo|Douglas & Viniciu...|       sertanejo pop|               9.6|\n",
      "|   13|  Global|                japan|          Famous Dex|         chicago rap|           1260.05|\n",
      "|   14|  Global|                  how|            Lil Baby|         atl hip hop| 76.80000000000003|\n",
      "|   15|  Global|      black spiderman|Logic - Damian Le...|   conscious hip hop|             616.0|\n",
      "|   16|  Global| marys boy child /...|            Boney M.|               disco|             529.2|\n",
      "|   17|  Global|               eleven|Khalid - Summer W...|     alternative r&b|              34.4|\n",
      "|   18|  Global|           to die for|           Sam Smith|                 pop|           6459.65|\n",
      "|   19|  Global|           wir ticken| Capital Bra - Samra|      german hip hop|            1105.5|\n",
      "|   20|  Global|              momentz|Gorillaz - De La ...| alternative hip hop|              92.0|\n",
      "|   21|  Global|trivia 起 : just d...|                 BTS|               k-pop|             183.7|\n",
      "|   22|  Global|    juju on that beat|Zay Hilfigerrr - ...|                    |            1745.1|\n",
      "|   23|  Global|            graveyard|              Halsey|           dance pop|            909.85|\n",
      "|   24|  Global| love it if we mad...|            The 1975|modern alternativ...|            107.95|\n",
      "|   25|  Global|             physical|            Dua Lipa|           dance pop|          18495.25|\n",
      "|   26|  Global|     split/whole time|          Lil Yachty|         atl hip hop|              36.0|\n",
      "|   27|  Global|               use me|              Future|         atl hip hop|               4.0|\n",
      "|   28|  Global| hoje eu vou parar...|Mc Livinho - Renn...|       brazilian edm| 23.20000000000001|\n",
      "|   29|  Global|      nights with you|                  MØ|           dance pop|            3758.4|\n",
      "|   30|  Global|                 hops|                MERO|      german hip hop|19.200000000000006|\n",
      "|   31|  Global|         living proof|      Camila Cabello|           dance pop| 798.4500000000003|\n",
      "|   32|  Global|         shed a light|Robin Schulz - Da...|           dance pop|           14091.0|\n",
      "|   33|  Global|           borderline|         Tame Impala|    australian psych|              16.8|\n",
      "|   34|  Global|      do you remember|Chance the Rapper...|         chicago rap|             275.3|\n",
      "|   35|  Global|         u deserve it|Trippie Redd - Ch...|         melodic rap|               6.4|\n",
      "|   36|  Global|         we both know|       Bryson Tiller|    kentucky hip hop|              32.0|\n",
      "|   37|  Global| hey ma  - spanish...|Pitbull - J Balvi...|           dance pop|16408.500000000007|\n",
      "|   38|  Global|          roaring 20s| Panic! At The Disco|         baroque pop|             197.6|\n",
      "|   39|  Global|           como antes|      Yandel - Wisin|               latin|            3416.0|\n",
      "|   40|  Global|          ball for me|Post Malone - Nic...|             dfw rap|13950.499999999998|\n",
      "|   41|  Global|               hunger|Florence + The Ma...|             art pop|              76.0|\n",
      "|   42|  Global|                  run|                Joji|     alternative r&b|             232.0|\n",
      "|   43|  Global|    how do you sleep?|           Sam Smith|                 pop| 27.20000000000001|\n",
      "|   44|  Global|              celsius|                 PNL|      french hip hop|             87.55|\n",
      "|   45|  Global|              refugee|Tom Petty and the...|          album rock|              28.0|\n",
      "|   46|  Global|            workin me|               Quavo|         atl hip hop| 2648.800000000001|\n",
      "|   47|  Global| business is business|    Lil Baby - Gunna|         atl hip hop|            136.85|\n",
      "|   48|  Global| baby, you make me...|           Sam Smith|                 pop|             452.8|\n",
      "|   49|  Global| qualcosa in cui c...|Marracash - Guè P...|     italian hip hop| 42.40000000000001|\n",
      "|   50|  Global| the next best ame...|        Lana Del Rey|             art pop|              24.8|\n",
      "+-----+--------+---------------------+--------------------+--------------------+------------------+\n",
      "only showing top 50 rows\n",
      "\n"
     ]
    }
   ],
   "source": [
    "from pyspark.sql.functions import regexp_replace\n",
    "recommend_df_copy= spark.read.option(\"header\",True).csv(data)\n",
    "recommend_df= recommend_df_copy.where(\"Country0 == 'Global'\")\n",
    "\n",
    "print(recommend_df_copy.count())\n",
    "print(recommend_df.count())\n",
    "print(recommend_df.distinct().count())\n",
    "from pyspark.sql.functions import desc, row_number, monotonically_increasing_id\n",
    "from pyspark.sql.window import Window\n",
    "\n",
    "recommend_df = recommend_df.withColumn('Index', row_number().over(Window.orderBy(monotonically_increasing_id())))\n",
    "recommend_df=recommend_df.withColumn('Genre', regexp_replace('Genre', 'n-a', ' '))\n",
    "recommend_df.registerTempTable(\"recommend\")\n",
    "spark.sql('SELECT Index,Country0, Title,Artist, Genre, Popularity FROM recommend').show(50)"
   ]
  },
  {
   "cell_type": "code",
   "execution_count": 139,
   "id": "other-carnival",
   "metadata": {
    "scrolled": true
   },
   "outputs": [
    {
     "name": "stderr",
     "output_type": "stream",
     "text": [
      "C:\\Spark\\spark-3.2.0-bin-hadoop3.2\\spark-3.2.0-bin-hadoop3.2\\spark-3.2.0-bin-hadoop3.2\\python\\pyspark\\sql\\dataframe.py:140: FutureWarning: Deprecated in 2.0, use createOrReplaceTempView instead.\n",
      "  FutureWarning\n"
     ]
    },
    {
     "name": "stdout",
     "output_type": "stream",
     "text": [
      "+-----+---------------------+--------------------+--------------------+--------------------+--------------------+\n",
      "|Index|                Title|              Artist|               Genre|   Combined_Features|             feature|\n",
      "+-----+---------------------+--------------------+--------------------+--------------------+--------------------+\n",
      "|    1|           adan y eva|        Paulo Londra|   argentine hip hop|argentine hip hop...|[argentine, hip, ...|\n",
      "|    2|      it wont kill ya|The Chainsmokers ...|           dance pop|dance pop The Cha...|[dance, pop, The,...|\n",
      "|    3|                 hymn|               Kesha|           dance pop|     dance pop Kesha| [dance, pop, Kesha]|\n",
      "|    4|               arrows|        Foo Fighters|   alternative metal|alternative metal...|[alternative, met...|\n",
      "|    5|    talking to myself|         Linkin Park|   alternative metal|alternative metal...|[alternative, met...|\n",
      "|    6|                  icy|  Logic - Gucci Mane|   conscious hip hop|conscious hip hop...|[conscious, hip, ...|\n",
      "|    7|        club paradise|               Drake|    canadian hip hop|canadian hip hop ...|[canadian, hip, h...|\n",
      "|    8| versace on the floor|          Bruno Mars|           dance pop|dance pop Bruno Mars|[dance, pop, Brun...|\n",
      "|    9|              canguro|                 WOS|     argentine indie| argentine indie WOS|[argentine, indie...|\n",
      "|   10|              sixteen|      Ellie Goulding|           dance pop|dance pop Ellie G...|[dance, pop, Elli...|\n",
      "|   11|             betrayed|             Lil Xan|             emo rap|     emo rap Lil Xan|[emo, rap, Lil, Xan]|\n",
      "|   12|  figurinha - ao vivo|Douglas & Viniciu...|       sertanejo pop|sertanejo pop Dou...|[sertanejo, pop, ...|\n",
      "|   13|                japan|          Famous Dex|         chicago rap|chicago rap Famou...|[chicago, rap, Fa...|\n",
      "|   14|                  how|            Lil Baby|         atl hip hop|atl hip hop Lil Baby|[atl, hip, hop, L...|\n",
      "|   15|      black spiderman|Logic - Damian Le...|   conscious hip hop|conscious hip hop...|[conscious, hip, ...|\n",
      "|   16| marys boy child /...|            Boney M.|               disco|      disco Boney M.|  [disco, Boney, M.]|\n",
      "|   17|               eleven|Khalid - Summer W...|     alternative r&b|alternative r&b K...|[alternative, r&b...|\n",
      "|   18|           to die for|           Sam Smith|                 pop|       pop Sam Smith|   [pop, Sam, Smith]|\n",
      "|   19|           wir ticken| Capital Bra - Samra|      german hip hop|german hip hop Ca...|[german, hip, hop...|\n",
      "|   20|              momentz|Gorillaz - De La ...| alternative hip hop|alternative hip h...|[alternative, hip...|\n",
      "|   21|trivia 起 : just d...|                 BTS|               k-pop|           k-pop BTS|        [k-pop, BTS]|\n",
      "|   22|    juju on that beat|Zay Hilfigerrr - ...|                    |  Zay Hilfigerrr ...|[, , Zay, Hilfige...|\n",
      "|   23|            graveyard|              Halsey|           dance pop|    dance pop Halsey|[dance, pop, Halsey]|\n",
      "|   24| love it if we mad...|            The 1975|modern alternativ...|modern alternativ...|[modern, alternat...|\n",
      "|   25|             physical|            Dua Lipa|           dance pop|  dance pop Dua Lipa|[dance, pop, Dua,...|\n",
      "|   26|     split/whole time|          Lil Yachty|         atl hip hop|atl hip hop Lil Y...|[atl, hip, hop, L...|\n",
      "|   27|               use me|              Future|         atl hip hop|  atl hip hop Future|[atl, hip, hop, F...|\n",
      "|   28| hoje eu vou parar...|Mc Livinho - Renn...|       brazilian edm|brazilian edm Mc ...|[brazilian, edm, ...|\n",
      "|   29|      nights with you|                  MØ|           dance pop|        dance pop MØ|    [dance, pop, MØ]|\n",
      "|   30|                 hops|                MERO|      german hip hop| german hip hop MERO|[german, hip, hop...|\n",
      "|   31|         living proof|      Camila Cabello|           dance pop|dance pop Camila ...|[dance, pop, Cami...|\n",
      "|   32|         shed a light|Robin Schulz - Da...|           dance pop|dance pop Robin S...|[dance, pop, Robi...|\n",
      "|   33|           borderline|         Tame Impala|    australian psych|australian psych ...|[australian, psyc...|\n",
      "|   34|      do you remember|Chance the Rapper...|         chicago rap|chicago rap Chanc...|[chicago, rap, Ch...|\n",
      "|   35|         u deserve it|Trippie Redd - Ch...|         melodic rap|melodic rap Tripp...|[melodic, rap, Tr...|\n",
      "|   36|         we both know|       Bryson Tiller|    kentucky hip hop|kentucky hip hop ...|[kentucky, hip, h...|\n",
      "|   37| hey ma  - spanish...|Pitbull - J Balvi...|           dance pop|dance pop Pitbull...|[dance, pop, Pitb...|\n",
      "|   38|          roaring 20s| Panic! At The Disco|         baroque pop|baroque pop Panic...|[baroque, pop, Pa...|\n",
      "|   39|           como antes|      Yandel - Wisin|               latin|latin Yandel - Wisin|[latin, Yandel, -...|\n",
      "|   40|          ball for me|Post Malone - Nic...|             dfw rap|dfw rap Post Malo...|[dfw, rap, Post, ...|\n",
      "|   41|               hunger|Florence + The Ma...|             art pop|art pop Florence ...|[art, pop, Floren...|\n",
      "|   42|                  run|                Joji|     alternative r&b|alternative r&b Joji|[alternative, r&b...|\n",
      "|   43|    how do you sleep?|           Sam Smith|                 pop|       pop Sam Smith|   [pop, Sam, Smith]|\n",
      "|   44|              celsius|                 PNL|      french hip hop|  french hip hop PNL|[french, hip, hop...|\n",
      "|   45|              refugee|Tom Petty and the...|          album rock|album rock Tom Pe...|[album, rock, Tom...|\n",
      "|   46|            workin me|               Quavo|         atl hip hop|   atl hip hop Quavo|[atl, hip, hop, Q...|\n",
      "|   47| business is business|    Lil Baby - Gunna|         atl hip hop|atl hip hop Lil B...|[atl, hip, hop, L...|\n",
      "|   48| baby, you make me...|           Sam Smith|                 pop|       pop Sam Smith|   [pop, Sam, Smith]|\n",
      "|   49| qualcosa in cui c...|Marracash - Guè P...|     italian hip hop|italian hip hop M...|[italian, hip, ho...|\n",
      "|   50| the next best ame...|        Lana Del Rey|             art pop|art pop Lana Del Rey|[art, pop, Lana, ...|\n",
      "+-----+---------------------+--------------------+--------------------+--------------------+--------------------+\n",
      "only showing top 50 rows\n",
      "\n"
     ]
    }
   ],
   "source": [
    "from pyspark.sql.functions import concat,col,lit\n",
    "r_df=recommend_df.withColumn(\"Combined_Features\", (concat(col(\"Genre\"), lit(\" \"), col(\"Artist\"))))\n",
    "def string_to_list(row):\n",
    "    return row.split(' ')\n",
    "\n",
    "from pyspark.sql.functions import udf,col\n",
    "from pyspark.sql.types import StringType, ArrayType\n",
    "\n",
    "s_to_l = udf(lambda row: string_to_list(row),ArrayType(StringType()) )\n",
    "r_df=r_df.withColumn(\"feature\",s_to_l(col(\"Combined_Features\")))\n",
    "#r_df = df.withColumn(\"feature\", convert_string_to_list(\"Combined_features\"))\n",
    "r_df.registerTempTable(\"updated_recommend\")\n",
    "spark.sql('SELECT Index,Title,Artist,Genre,Combined_Features, feature FROM updated_recommend').show(50)\n"
   ]
  },
  {
   "cell_type": "code",
   "execution_count": 132,
   "id": "organizational-brief",
   "metadata": {},
   "outputs": [
    {
     "name": "stdout",
     "output_type": "stream",
     "text": [
      "+-----+--------------------+--------------------+\n",
      "|Index|             feature|              vector|\n",
      "+-----+--------------------+--------------------+\n",
      "|    1|[argentine hip ho...|(2866,[99,178],[1...|\n",
      "|    2|[dance pop, The C...|(2866,[0,1499],[1...|\n",
      "|    3|  [dance pop, Kesha]|(2866,[0,245],[1....|\n",
      "|    4|[alternative meta...|(2866,[17,205],[1...|\n",
      "|    5|[alternative meta...|(2866,[17,44],[1....|\n",
      "|    6|[conscious hip ho...|(2866,[9,1405],[1...|\n",
      "|    7|[canadian hip hop...|(2866,[7,19],[1.0...|\n",
      "|    8|[dance pop, Bruno...|(2866,[0,321],[1....|\n",
      "|    9|[argentine indie,...|(2866,[2448,2525]...|\n",
      "|   10|[dance pop, Ellie...|(2866,[0,297],[1....|\n",
      "|   11|  [emo rap, Lil Xan]|(2866,[8,479],[1....|\n",
      "|   12|[sertanejo pop, D...|(2866,[607,2797],...|\n",
      "|   13|[chicago rap, Fam...|(2866,[10,582],[1...|\n",
      "|   14|[atl hip hop, Lil...|(2866,[1,102],[1....|\n",
      "|   15|[conscious hip ho...|(2866,[9,1107],[1...|\n",
      "|   16|   [disco, Boney M.]|(2866,[388,1596],...|\n",
      "|   17|[alternative r&b,...|(2866,[13,1355],[...|\n",
      "|   18|    [pop, Sam Smith]|(2866,[3,50],[1.0...|\n",
      "|   19|[german hip hop, ...|(2866,[6,248],[1....|\n",
      "|   20|[alternative hip ...|(2866,[66,2228],[...|\n",
      "+-----+--------------------+--------------------+\n",
      "only showing top 20 rows\n",
      "\n"
     ]
    }
   ],
   "source": [
    "from pyspark.ml.feature import CountVectorizer\n",
    "cv = CountVectorizer(inputCol=\"feature\", outputCol=\"vector\")\n",
    "model = cv.fit(r_df)\n",
    "result = model.transform(r_df)\n",
    "\n",
    "c_matrix=result.select('Index', 'feature', 'vector')\n",
    "c_matrix.show()"
   ]
  },
  {
   "cell_type": "code",
   "execution_count": 140,
   "id": "standing-customs",
   "metadata": {},
   "outputs": [
    {
     "data": {
      "text/html": [
       "<div>\n",
       "<style scoped>\n",
       "    .dataframe tbody tr th:only-of-type {\n",
       "        vertical-align: middle;\n",
       "    }\n",
       "\n",
       "    .dataframe tbody tr th {\n",
       "        vertical-align: top;\n",
       "    }\n",
       "\n",
       "    .dataframe thead th {\n",
       "        text-align: right;\n",
       "    }\n",
       "</style>\n",
       "<table border=\"1\" class=\"dataframe\">\n",
       "  <thead>\n",
       "    <tr style=\"text-align: right;\">\n",
       "      <th></th>\n",
       "      <th>Index</th>\n",
       "      <th>feature</th>\n",
       "      <th>vector</th>\n",
       "    </tr>\n",
       "  </thead>\n",
       "  <tbody>\n",
       "    <tr>\n",
       "      <th>0</th>\n",
       "      <td>1</td>\n",
       "      <td>[argentine hip hop, Paulo Londra]</td>\n",
       "      <td>(0.0, 0.0, 0.0, 0.0, 0.0, 0.0, 0.0, 0.0, 0.0, ...</td>\n",
       "    </tr>\n",
       "    <tr>\n",
       "      <th>1</th>\n",
       "      <td>2</td>\n",
       "      <td>[dance pop, The Chainsmokers - Louane]</td>\n",
       "      <td>(1.0, 0.0, 0.0, 0.0, 0.0, 0.0, 0.0, 0.0, 0.0, ...</td>\n",
       "    </tr>\n",
       "    <tr>\n",
       "      <th>2</th>\n",
       "      <td>3</td>\n",
       "      <td>[dance pop, Kesha]</td>\n",
       "      <td>(1.0, 0.0, 0.0, 0.0, 0.0, 0.0, 0.0, 0.0, 0.0, ...</td>\n",
       "    </tr>\n",
       "    <tr>\n",
       "      <th>3</th>\n",
       "      <td>4</td>\n",
       "      <td>[alternative metal, Foo Fighters]</td>\n",
       "      <td>(0.0, 0.0, 0.0, 0.0, 0.0, 0.0, 0.0, 0.0, 0.0, ...</td>\n",
       "    </tr>\n",
       "    <tr>\n",
       "      <th>4</th>\n",
       "      <td>5</td>\n",
       "      <td>[alternative metal, Linkin Park]</td>\n",
       "      <td>(0.0, 0.0, 0.0, 0.0, 0.0, 0.0, 0.0, 0.0, 0.0, ...</td>\n",
       "    </tr>\n",
       "  </tbody>\n",
       "</table>\n",
       "</div>"
      ],
      "text/plain": [
       "   Index                                 feature  \\\n",
       "0      1       [argentine hip hop, Paulo Londra]   \n",
       "1      2  [dance pop, The Chainsmokers - Louane]   \n",
       "2      3                      [dance pop, Kesha]   \n",
       "3      4       [alternative metal, Foo Fighters]   \n",
       "4      5        [alternative metal, Linkin Park]   \n",
       "\n",
       "                                              vector  \n",
       "0  (0.0, 0.0, 0.0, 0.0, 0.0, 0.0, 0.0, 0.0, 0.0, ...  \n",
       "1  (1.0, 0.0, 0.0, 0.0, 0.0, 0.0, 0.0, 0.0, 0.0, ...  \n",
       "2  (1.0, 0.0, 0.0, 0.0, 0.0, 0.0, 0.0, 0.0, 0.0, ...  \n",
       "3  (0.0, 0.0, 0.0, 0.0, 0.0, 0.0, 0.0, 0.0, 0.0, ...  \n",
       "4  (0.0, 0.0, 0.0, 0.0, 0.0, 0.0, 0.0, 0.0, 0.0, ...  "
      ]
     },
     "execution_count": 140,
     "metadata": {},
     "output_type": "execute_result"
    }
   ],
   "source": [
    "import pandas as pd\n",
    "\n",
    "pandas_df = c_matrix.toPandas()\n",
    "pandas_df.head()"
   ]
  },
  {
   "cell_type": "code",
   "execution_count": 154,
   "id": "potential-bottom",
   "metadata": {},
   "outputs": [
    {
     "data": {
      "text/html": [
       "<div>\n",
       "<style scoped>\n",
       "    .dataframe tbody tr th:only-of-type {\n",
       "        vertical-align: middle;\n",
       "    }\n",
       "\n",
       "    .dataframe tbody tr th {\n",
       "        vertical-align: top;\n",
       "    }\n",
       "\n",
       "    .dataframe thead th {\n",
       "        text-align: right;\n",
       "    }\n",
       "</style>\n",
       "<table border=\"1\" class=\"dataframe\">\n",
       "  <thead>\n",
       "    <tr style=\"text-align: right;\">\n",
       "      <th></th>\n",
       "      <th>Index</th>\n",
       "      <th>Title</th>\n",
       "      <th>Genre</th>\n",
       "      <th>Artist</th>\n",
       "      <th>Popularity</th>\n",
       "      <th>Combined_Features</th>\n",
       "    </tr>\n",
       "  </thead>\n",
       "  <tbody>\n",
       "    <tr>\n",
       "      <th>0</th>\n",
       "      <td>1</td>\n",
       "      <td>adan y eva</td>\n",
       "      <td>argentine hip hop</td>\n",
       "      <td>Paulo Londra</td>\n",
       "      <td>31833.95</td>\n",
       "      <td>argentine hip hop Paulo Londra</td>\n",
       "    </tr>\n",
       "    <tr>\n",
       "      <th>1</th>\n",
       "      <td>2</td>\n",
       "      <td>it wont kill ya</td>\n",
       "      <td>dance pop</td>\n",
       "      <td>The Chainsmokers - Louane</td>\n",
       "      <td>418.0</td>\n",
       "      <td>dance pop The Chainsmokers - Louane</td>\n",
       "    </tr>\n",
       "    <tr>\n",
       "      <th>2</th>\n",
       "      <td>3</td>\n",
       "      <td>hymn</td>\n",
       "      <td>dance pop</td>\n",
       "      <td>Kesha</td>\n",
       "      <td>56.0</td>\n",
       "      <td>dance pop Kesha</td>\n",
       "    </tr>\n",
       "    <tr>\n",
       "      <th>3</th>\n",
       "      <td>4</td>\n",
       "      <td>arrows</td>\n",
       "      <td>alternative metal</td>\n",
       "      <td>Foo Fighters</td>\n",
       "      <td>78.4</td>\n",
       "      <td>alternative metal Foo Fighters</td>\n",
       "    </tr>\n",
       "    <tr>\n",
       "      <th>4</th>\n",
       "      <td>5</td>\n",
       "      <td>talking to myself</td>\n",
       "      <td>alternative metal</td>\n",
       "      <td>Linkin Park</td>\n",
       "      <td>244.95</td>\n",
       "      <td>alternative metal Linkin Park</td>\n",
       "    </tr>\n",
       "  </tbody>\n",
       "</table>\n",
       "</div>"
      ],
      "text/plain": [
       "   Index              Title              Genre                     Artist  \\\n",
       "0      1         adan y eva  argentine hip hop               Paulo Londra   \n",
       "1      2    it wont kill ya          dance pop  The Chainsmokers - Louane   \n",
       "2      3               hymn          dance pop                      Kesha   \n",
       "3      4             arrows  alternative metal               Foo Fighters   \n",
       "4      5  talking to myself  alternative metal                Linkin Park   \n",
       "\n",
       "  Popularity                    Combined_Features  \n",
       "0   31833.95       argentine hip hop Paulo Londra  \n",
       "1      418.0  dance pop The Chainsmokers - Louane  \n",
       "2       56.0                      dance pop Kesha  \n",
       "3       78.4       alternative metal Foo Fighters  \n",
       "4     244.95        alternative metal Linkin Park  "
      ]
     },
     "execution_count": 154,
     "metadata": {},
     "output_type": "execute_result"
    }
   ],
   "source": [
    "import pandas as pd\n",
    "matrix = r_df.select('Index','Title','Genre','Artist','Popularity','Combined_Features')\n",
    "matrix = matrix.toPandas()\n",
    "matrix.head()"
   ]
  },
  {
   "cell_type": "code",
   "execution_count": 155,
   "id": "convinced-cuisine",
   "metadata": {},
   "outputs": [
    {
     "name": "stdout",
     "output_type": "stream",
     "text": [
      "Count Matrix: [[0 0 0 ... 0 0 0]\n",
      " [0 0 0 ... 0 0 0]\n",
      " [0 0 0 ... 0 0 0]\n",
      " ...\n",
      " [0 0 0 ... 0 0 0]\n",
      " [0 0 0 ... 0 0 0]\n",
      " [0 0 0 ... 0 0 0]]\n"
     ]
    }
   ],
   "source": [
    "from sklearn.feature_extraction.text import CountVectorizer\n",
    "cv = CountVectorizer()\n",
    "count_matrix = cv.fit_transform(matrix[\"Combined_Features\"])\n",
    "print(\"Count Matrix:\", count_matrix.toarray())"
   ]
  },
  {
   "cell_type": "code",
   "execution_count": 156,
   "id": "binding-combining",
   "metadata": {},
   "outputs": [],
   "source": [
    "from sklearn.metrics.pairwise import cosine_similarity\n",
    "cosine_sim = cosine_similarity(count_matrix)\n"
   ]
  },
  {
   "cell_type": "code",
   "execution_count": 161,
   "id": "prostate-joshua",
   "metadata": {},
   "outputs": [
    {
     "data": {
      "text/plain": [
       "2978"
      ]
     },
     "execution_count": 161,
     "metadata": {},
     "output_type": "execute_result"
    }
   ],
   "source": [
    "song_user_likes = \"so what\"\n",
    "def get_index_from_title(title):\n",
    "    return matrix[matrix.Title == title][\"Index\"].values[0]\n",
    "song_index = get_index_from_title(song_user_likes)\n",
    "song_index"
   ]
  },
  {
   "cell_type": "code",
   "execution_count": 162,
   "id": "armed-stage",
   "metadata": {},
   "outputs": [
    {
     "name": "stdout",
     "output_type": "stream",
     "text": [
      "keanu reeves\n",
      "king of my city\n",
      "dont come out the house\n",
      "i say a little prayer\n",
      "mary, did you know?\n",
      "rain on me\n",
      "right now\n",
      "ta tum tum\n",
      "oh my god\n",
      "baebae\n",
      "dusk till dawn - radio edit\n",
      "solo pienso en ti\n",
      "controlla\n",
      "billie jean\n",
      "die for me\n",
      "28 liter\n",
      "runaway\n",
      "i warned myself\n",
      "bad and boujee\n",
      "malediven\n",
      "happy now\n"
     ]
    }
   ],
   "source": [
    "songs_similar = list(enumerate(cosine_sim[song_index]))\n",
    "sorted_similar_songs = sorted(songs_similar, key=lambda x:x[1], reverse=True)\n",
    "def get_title_from_index(index):\n",
    "    return matrix[matrix.Index == index][\"Title\"].values[0]\n",
    "i=0\n",
    "for songs in sorted_similar_songs:\n",
    "    print(get_title_from_index(songs[0]))\n",
    "    i+=1\n",
    "    if i>20:\n",
    "        break"
   ]
  },
  {
   "cell_type": "code",
   "execution_count": null,
   "id": "registered-quebec",
   "metadata": {},
   "outputs": [],
   "source": []
  }
 ],
 "metadata": {
  "kernelspec": {
   "display_name": "Python 3",
   "language": "python",
   "name": "python3"
  },
  "language_info": {
   "codemirror_mode": {
    "name": "ipython",
    "version": 3
   },
   "file_extension": ".py",
   "mimetype": "text/x-python",
   "name": "python",
   "nbconvert_exporter": "python",
   "pygments_lexer": "ipython3",
   "version": "3.7.1"
  }
 },
 "nbformat": 4,
 "nbformat_minor": 5
}
